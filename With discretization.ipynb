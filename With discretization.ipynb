{
 "cells": [
  {
   "attachments": {},
   "cell_type": "markdown",
   "metadata": {},
   "source": [
    "# Importer les librairies nécessaires"
   ]
  },
  {
   "cell_type": "code",
   "execution_count": null,
   "metadata": {},
   "outputs": [],
   "source": [
    "import numpy as np\n",
    "from sklearn.model_selection import train_test_split\n",
    "import pandas as pd\n",
    "import matplotlib.pyplot as plt\n",
    "import seaborn as sns"
   ]
  },
  {
   "cell_type": "code",
   "execution_count": 2,
   "metadata": {},
   "outputs": [
    {
     "data": {
      "text/html": [
       "<div>\n",
       "<style scoped>\n",
       "    .dataframe tbody tr th:only-of-type {\n",
       "        vertical-align: middle;\n",
       "    }\n",
       "\n",
       "    .dataframe tbody tr th {\n",
       "        vertical-align: top;\n",
       "    }\n",
       "\n",
       "    .dataframe thead th {\n",
       "        text-align: right;\n",
       "    }\n",
       "</style>\n",
       "<table border=\"1\" class=\"dataframe\">\n",
       "  <thead>\n",
       "    <tr style=\"text-align: right;\">\n",
       "      <th></th>\n",
       "      <th>Y</th>\n",
       "      <th>X1</th>\n",
       "      <th>X2</th>\n",
       "      <th>X3</th>\n",
       "      <th>X4</th>\n",
       "      <th>X5</th>\n",
       "      <th>X6</th>\n",
       "      <th>X7</th>\n",
       "    </tr>\n",
       "  </thead>\n",
       "  <tbody>\n",
       "    <tr>\n",
       "      <th>0</th>\n",
       "      <td>Display</td>\n",
       "      <td>cor_sales_in_vol</td>\n",
       "      <td>cor_sales_in_val</td>\n",
       "      <td>CA_mag</td>\n",
       "      <td>value</td>\n",
       "      <td>ENSEIGNE</td>\n",
       "      <td>VenteConv</td>\n",
       "      <td>Feature</td>\n",
       "    </tr>\n",
       "    <tr>\n",
       "      <th>1</th>\n",
       "      <td>No_Displ</td>\n",
       "      <td>2</td>\n",
       "      <td>20.2</td>\n",
       "      <td>47400</td>\n",
       "      <td>36</td>\n",
       "      <td>CORA</td>\n",
       "      <td>72</td>\n",
       "      <td>No_Feat</td>\n",
       "    </tr>\n",
       "    <tr>\n",
       "      <th>2</th>\n",
       "      <td>No_Displ</td>\n",
       "      <td>2</td>\n",
       "      <td>11.9</td>\n",
       "      <td>62000</td>\n",
       "      <td>24</td>\n",
       "      <td>LECLERC</td>\n",
       "      <td>48</td>\n",
       "      <td>No_Feat</td>\n",
       "    </tr>\n",
       "    <tr>\n",
       "      <th>3</th>\n",
       "      <td>No_Displ</td>\n",
       "      <td>8</td>\n",
       "      <td>29.52</td>\n",
       "      <td>60661</td>\n",
       "      <td>60</td>\n",
       "      <td>AUCHAN</td>\n",
       "      <td>480</td>\n",
       "      <td>No_Feat</td>\n",
       "    </tr>\n",
       "    <tr>\n",
       "      <th>4</th>\n",
       "      <td>No_Displ</td>\n",
       "      <td>2</td>\n",
       "      <td>16.2</td>\n",
       "      <td>59677</td>\n",
       "      <td>19</td>\n",
       "      <td>CARREFOUR</td>\n",
       "      <td>38</td>\n",
       "      <td>No_Feat</td>\n",
       "    </tr>\n",
       "  </tbody>\n",
       "</table>\n",
       "</div>"
      ],
      "text/plain": [
       "          Y                X1                X2      X3     X4         X5  \\\n",
       "0   Display  cor_sales_in_vol  cor_sales_in_val  CA_mag  value   ENSEIGNE   \n",
       "1  No_Displ                 2              20.2   47400     36       CORA   \n",
       "2  No_Displ                 2              11.9   62000     24    LECLERC   \n",
       "3  No_Displ                 8             29.52   60661     60     AUCHAN   \n",
       "4  No_Displ                 2              16.2   59677     19  CARREFOUR   \n",
       "\n",
       "          X6       X7  \n",
       "0  VenteConv  Feature  \n",
       "1         72  No_Feat  \n",
       "2         48  No_Feat  \n",
       "3        480  No_Feat  \n",
       "4         38  No_Feat  "
      ]
     },
     "execution_count": 2,
     "metadata": {},
     "output_type": "execute_result"
    }
   ],
   "source": [
    "data = pd.read_csv('new_Base_CDM_balanced_V2.csv' , delimiter=';')\n",
    "data.head()"
   ]
  },
  {
   "cell_type": "code",
   "execution_count": 3,
   "metadata": {},
   "outputs": [],
   "source": [
    "# Supprimer la premiere ligne du dataframe\n",
    "data = data.drop(0)\n",
    "\n",
    "# Réinitialiser les index après la suppression\n",
    "data = data.reset_index(drop=True)"
   ]
  },
  {
   "attachments": {},
   "cell_type": "markdown",
   "metadata": {},
   "source": [
    "# Transforming Categorical features"
   ]
  },
  {
   "cell_type": "code",
   "execution_count": 4,
   "metadata": {},
   "outputs": [],
   "source": [
    "# Définir la correspondance entre les classes et les valeurs numériques\n",
    "mapping = {'No_Displ': 1, 'Displ': 0}\n",
    "mapping1 = {'No_Feat': 1, 'Feat': 0}\n",
    "\n",
    "# Appliquer la conversion \n",
    "data['Y'] = data['Y'].map(mapping)\n",
    "data['X7'] = data['X7'].map(mapping1)"
   ]
  },
  {
   "cell_type": "code",
   "execution_count": 5,
   "metadata": {},
   "outputs": [],
   "source": [
    "# Appliquer le One-Hot Encoding à la variable X5\n",
    "data = pd.get_dummies(data, columns=['X5'], drop_first=True)"
   ]
  },
  {
   "cell_type": "code",
   "execution_count": 6,
   "metadata": {},
   "outputs": [
    {
     "data": {
      "text/html": [
       "<div>\n",
       "<style scoped>\n",
       "    .dataframe tbody tr th:only-of-type {\n",
       "        vertical-align: middle;\n",
       "    }\n",
       "\n",
       "    .dataframe tbody tr th {\n",
       "        vertical-align: top;\n",
       "    }\n",
       "\n",
       "    .dataframe thead th {\n",
       "        text-align: right;\n",
       "    }\n",
       "</style>\n",
       "<table border=\"1\" class=\"dataframe\">\n",
       "  <thead>\n",
       "    <tr style=\"text-align: right;\">\n",
       "      <th></th>\n",
       "      <th>X1</th>\n",
       "      <th>X2</th>\n",
       "      <th>X3</th>\n",
       "      <th>X4</th>\n",
       "      <th>X6</th>\n",
       "      <th>X7</th>\n",
       "      <th>X5_CARREFOUR</th>\n",
       "      <th>X5_CARREFOUR MARKET</th>\n",
       "      <th>X5_CASINO</th>\n",
       "      <th>X5_CORA</th>\n",
       "      <th>...</th>\n",
       "      <th>X5_INTERMARCHE</th>\n",
       "      <th>X5_LECLERC</th>\n",
       "      <th>X5_MARCHE U</th>\n",
       "      <th>X5_MATCH</th>\n",
       "      <th>X5_MONOPRIX</th>\n",
       "      <th>X5_OTHERS</th>\n",
       "      <th>X5_PRISUNIC</th>\n",
       "      <th>X5_SHOPI</th>\n",
       "      <th>X5_SIMPLY MARKET</th>\n",
       "      <th>X5_SUPER U</th>\n",
       "    </tr>\n",
       "  </thead>\n",
       "  <tbody>\n",
       "    <tr>\n",
       "      <th>0</th>\n",
       "      <td>2</td>\n",
       "      <td>20.2</td>\n",
       "      <td>47400</td>\n",
       "      <td>36</td>\n",
       "      <td>72</td>\n",
       "      <td>1</td>\n",
       "      <td>0</td>\n",
       "      <td>0</td>\n",
       "      <td>0</td>\n",
       "      <td>1</td>\n",
       "      <td>...</td>\n",
       "      <td>0</td>\n",
       "      <td>0</td>\n",
       "      <td>0</td>\n",
       "      <td>0</td>\n",
       "      <td>0</td>\n",
       "      <td>0</td>\n",
       "      <td>0</td>\n",
       "      <td>0</td>\n",
       "      <td>0</td>\n",
       "      <td>0</td>\n",
       "    </tr>\n",
       "    <tr>\n",
       "      <th>1</th>\n",
       "      <td>2</td>\n",
       "      <td>11.9</td>\n",
       "      <td>62000</td>\n",
       "      <td>24</td>\n",
       "      <td>48</td>\n",
       "      <td>1</td>\n",
       "      <td>0</td>\n",
       "      <td>0</td>\n",
       "      <td>0</td>\n",
       "      <td>0</td>\n",
       "      <td>...</td>\n",
       "      <td>0</td>\n",
       "      <td>1</td>\n",
       "      <td>0</td>\n",
       "      <td>0</td>\n",
       "      <td>0</td>\n",
       "      <td>0</td>\n",
       "      <td>0</td>\n",
       "      <td>0</td>\n",
       "      <td>0</td>\n",
       "      <td>0</td>\n",
       "    </tr>\n",
       "    <tr>\n",
       "      <th>2</th>\n",
       "      <td>8</td>\n",
       "      <td>29.52</td>\n",
       "      <td>60661</td>\n",
       "      <td>60</td>\n",
       "      <td>480</td>\n",
       "      <td>1</td>\n",
       "      <td>0</td>\n",
       "      <td>0</td>\n",
       "      <td>0</td>\n",
       "      <td>0</td>\n",
       "      <td>...</td>\n",
       "      <td>0</td>\n",
       "      <td>0</td>\n",
       "      <td>0</td>\n",
       "      <td>0</td>\n",
       "      <td>0</td>\n",
       "      <td>0</td>\n",
       "      <td>0</td>\n",
       "      <td>0</td>\n",
       "      <td>0</td>\n",
       "      <td>0</td>\n",
       "    </tr>\n",
       "    <tr>\n",
       "      <th>3</th>\n",
       "      <td>2</td>\n",
       "      <td>16.2</td>\n",
       "      <td>59677</td>\n",
       "      <td>19</td>\n",
       "      <td>38</td>\n",
       "      <td>1</td>\n",
       "      <td>1</td>\n",
       "      <td>0</td>\n",
       "      <td>0</td>\n",
       "      <td>0</td>\n",
       "      <td>...</td>\n",
       "      <td>0</td>\n",
       "      <td>0</td>\n",
       "      <td>0</td>\n",
       "      <td>0</td>\n",
       "      <td>0</td>\n",
       "      <td>0</td>\n",
       "      <td>0</td>\n",
       "      <td>0</td>\n",
       "      <td>0</td>\n",
       "      <td>0</td>\n",
       "    </tr>\n",
       "    <tr>\n",
       "      <th>4</th>\n",
       "      <td>5</td>\n",
       "      <td>62.1</td>\n",
       "      <td>142602</td>\n",
       "      <td>50</td>\n",
       "      <td>250</td>\n",
       "      <td>1</td>\n",
       "      <td>0</td>\n",
       "      <td>0</td>\n",
       "      <td>0</td>\n",
       "      <td>1</td>\n",
       "      <td>...</td>\n",
       "      <td>0</td>\n",
       "      <td>0</td>\n",
       "      <td>0</td>\n",
       "      <td>0</td>\n",
       "      <td>0</td>\n",
       "      <td>0</td>\n",
       "      <td>0</td>\n",
       "      <td>0</td>\n",
       "      <td>0</td>\n",
       "      <td>0</td>\n",
       "    </tr>\n",
       "  </tbody>\n",
       "</table>\n",
       "<p>5 rows × 24 columns</p>\n",
       "</div>"
      ],
      "text/plain": [
       "  X1     X2      X3  X4   X6  X7  X5_CARREFOUR  X5_CARREFOUR MARKET  \\\n",
       "0  2   20.2   47400  36   72   1             0                    0   \n",
       "1  2   11.9   62000  24   48   1             0                    0   \n",
       "2  8  29.52   60661  60  480   1             0                    0   \n",
       "3  2   16.2   59677  19   38   1             1                    0   \n",
       "4  5   62.1  142602  50  250   1             0                    0   \n",
       "\n",
       "   X5_CASINO  X5_CORA  ...  X5_INTERMARCHE  X5_LECLERC  X5_MARCHE U  X5_MATCH  \\\n",
       "0          0        1  ...               0           0            0         0   \n",
       "1          0        0  ...               0           1            0         0   \n",
       "2          0        0  ...               0           0            0         0   \n",
       "3          0        0  ...               0           0            0         0   \n",
       "4          0        1  ...               0           0            0         0   \n",
       "\n",
       "   X5_MONOPRIX  X5_OTHERS  X5_PRISUNIC  X5_SHOPI  X5_SIMPLY MARKET  X5_SUPER U  \n",
       "0            0          0            0         0                 0           0  \n",
       "1            0          0            0         0                 0           0  \n",
       "2            0          0            0         0                 0           0  \n",
       "3            0          0            0         0                 0           0  \n",
       "4            0          0            0         0                 0           0  \n",
       "\n",
       "[5 rows x 24 columns]"
      ]
     },
     "execution_count": 6,
     "metadata": {},
     "output_type": "execute_result"
    }
   ],
   "source": [
    "X = data.drop('Y' , axis=1)\n",
    "y = data['Y'].values\n",
    "X[:5]"
   ]
  },
  {
   "attachments": {},
   "cell_type": "markdown",
   "metadata": {},
   "source": [
    "# La discrétisation des données"
   ]
  },
  {
   "cell_type": "code",
   "execution_count": 13,
   "metadata": {},
   "outputs": [
    {
     "data": {
      "text/html": [
       "<div>\n",
       "<style scoped>\n",
       "    .dataframe tbody tr th:only-of-type {\n",
       "        vertical-align: middle;\n",
       "    }\n",
       "\n",
       "    .dataframe tbody tr th {\n",
       "        vertical-align: top;\n",
       "    }\n",
       "\n",
       "    .dataframe thead th {\n",
       "        text-align: right;\n",
       "    }\n",
       "</style>\n",
       "<table border=\"1\" class=\"dataframe\">\n",
       "  <thead>\n",
       "    <tr style=\"text-align: right;\">\n",
       "      <th></th>\n",
       "      <th>X1</th>\n",
       "      <th>X2</th>\n",
       "      <th>X3</th>\n",
       "      <th>X4</th>\n",
       "      <th>X6</th>\n",
       "      <th>X7</th>\n",
       "      <th>X5_CARREFOUR</th>\n",
       "      <th>X5_CARREFOUR MARKET</th>\n",
       "      <th>X5_CASINO</th>\n",
       "      <th>X5_CORA</th>\n",
       "      <th>...</th>\n",
       "      <th>X5_INTERMARCHE</th>\n",
       "      <th>X5_LECLERC</th>\n",
       "      <th>X5_MARCHE U</th>\n",
       "      <th>X5_MATCH</th>\n",
       "      <th>X5_MONOPRIX</th>\n",
       "      <th>X5_OTHERS</th>\n",
       "      <th>X5_PRISUNIC</th>\n",
       "      <th>X5_SHOPI</th>\n",
       "      <th>X5_SIMPLY MARKET</th>\n",
       "      <th>X5_SUPER U</th>\n",
       "    </tr>\n",
       "  </thead>\n",
       "  <tbody>\n",
       "    <tr>\n",
       "      <th>0</th>\n",
       "      <td>0.0</td>\n",
       "      <td>0.0</td>\n",
       "      <td>0.0</td>\n",
       "      <td>0.0</td>\n",
       "      <td>0.0</td>\n",
       "      <td>4.0</td>\n",
       "      <td>0.0</td>\n",
       "      <td>0.0</td>\n",
       "      <td>0.0</td>\n",
       "      <td>4.0</td>\n",
       "      <td>...</td>\n",
       "      <td>0.0</td>\n",
       "      <td>0.0</td>\n",
       "      <td>0.0</td>\n",
       "      <td>0.0</td>\n",
       "      <td>0.0</td>\n",
       "      <td>0.0</td>\n",
       "      <td>0.0</td>\n",
       "      <td>0.0</td>\n",
       "      <td>0.0</td>\n",
       "      <td>0.0</td>\n",
       "    </tr>\n",
       "    <tr>\n",
       "      <th>1</th>\n",
       "      <td>0.0</td>\n",
       "      <td>0.0</td>\n",
       "      <td>1.0</td>\n",
       "      <td>0.0</td>\n",
       "      <td>0.0</td>\n",
       "      <td>4.0</td>\n",
       "      <td>0.0</td>\n",
       "      <td>0.0</td>\n",
       "      <td>0.0</td>\n",
       "      <td>0.0</td>\n",
       "      <td>...</td>\n",
       "      <td>0.0</td>\n",
       "      <td>4.0</td>\n",
       "      <td>0.0</td>\n",
       "      <td>0.0</td>\n",
       "      <td>0.0</td>\n",
       "      <td>0.0</td>\n",
       "      <td>0.0</td>\n",
       "      <td>0.0</td>\n",
       "      <td>0.0</td>\n",
       "      <td>0.0</td>\n",
       "    </tr>\n",
       "    <tr>\n",
       "      <th>2</th>\n",
       "      <td>0.0</td>\n",
       "      <td>0.0</td>\n",
       "      <td>1.0</td>\n",
       "      <td>1.0</td>\n",
       "      <td>0.0</td>\n",
       "      <td>4.0</td>\n",
       "      <td>0.0</td>\n",
       "      <td>0.0</td>\n",
       "      <td>0.0</td>\n",
       "      <td>0.0</td>\n",
       "      <td>...</td>\n",
       "      <td>0.0</td>\n",
       "      <td>0.0</td>\n",
       "      <td>0.0</td>\n",
       "      <td>0.0</td>\n",
       "      <td>0.0</td>\n",
       "      <td>0.0</td>\n",
       "      <td>0.0</td>\n",
       "      <td>0.0</td>\n",
       "      <td>0.0</td>\n",
       "      <td>0.0</td>\n",
       "    </tr>\n",
       "    <tr>\n",
       "      <th>3</th>\n",
       "      <td>0.0</td>\n",
       "      <td>0.0</td>\n",
       "      <td>1.0</td>\n",
       "      <td>0.0</td>\n",
       "      <td>0.0</td>\n",
       "      <td>4.0</td>\n",
       "      <td>4.0</td>\n",
       "      <td>0.0</td>\n",
       "      <td>0.0</td>\n",
       "      <td>0.0</td>\n",
       "      <td>...</td>\n",
       "      <td>0.0</td>\n",
       "      <td>0.0</td>\n",
       "      <td>0.0</td>\n",
       "      <td>0.0</td>\n",
       "      <td>0.0</td>\n",
       "      <td>0.0</td>\n",
       "      <td>0.0</td>\n",
       "      <td>0.0</td>\n",
       "      <td>0.0</td>\n",
       "      <td>0.0</td>\n",
       "    </tr>\n",
       "    <tr>\n",
       "      <th>4</th>\n",
       "      <td>0.0</td>\n",
       "      <td>0.0</td>\n",
       "      <td>2.0</td>\n",
       "      <td>1.0</td>\n",
       "      <td>0.0</td>\n",
       "      <td>4.0</td>\n",
       "      <td>0.0</td>\n",
       "      <td>0.0</td>\n",
       "      <td>0.0</td>\n",
       "      <td>4.0</td>\n",
       "      <td>...</td>\n",
       "      <td>0.0</td>\n",
       "      <td>0.0</td>\n",
       "      <td>0.0</td>\n",
       "      <td>0.0</td>\n",
       "      <td>0.0</td>\n",
       "      <td>0.0</td>\n",
       "      <td>0.0</td>\n",
       "      <td>0.0</td>\n",
       "      <td>0.0</td>\n",
       "      <td>0.0</td>\n",
       "    </tr>\n",
       "  </tbody>\n",
       "</table>\n",
       "<p>5 rows × 24 columns</p>\n",
       "</div>"
      ],
      "text/plain": [
       "    X1   X2   X3   X4   X6   X7  X5_CARREFOUR  X5_CARREFOUR MARKET  X5_CASINO  \\\n",
       "0  0.0  0.0  0.0  0.0  0.0  4.0           0.0                  0.0        0.0   \n",
       "1  0.0  0.0  1.0  0.0  0.0  4.0           0.0                  0.0        0.0   \n",
       "2  0.0  0.0  1.0  1.0  0.0  4.0           0.0                  0.0        0.0   \n",
       "3  0.0  0.0  1.0  0.0  0.0  4.0           4.0                  0.0        0.0   \n",
       "4  0.0  0.0  2.0  1.0  0.0  4.0           0.0                  0.0        0.0   \n",
       "\n",
       "   X5_CORA  ...  X5_INTERMARCHE  X5_LECLERC  X5_MARCHE U  X5_MATCH  \\\n",
       "0      4.0  ...             0.0         0.0          0.0       0.0   \n",
       "1      0.0  ...             0.0         4.0          0.0       0.0   \n",
       "2      0.0  ...             0.0         0.0          0.0       0.0   \n",
       "3      0.0  ...             0.0         0.0          0.0       0.0   \n",
       "4      4.0  ...             0.0         0.0          0.0       0.0   \n",
       "\n",
       "   X5_MONOPRIX  X5_OTHERS  X5_PRISUNIC  X5_SHOPI  X5_SIMPLY MARKET  X5_SUPER U  \n",
       "0          0.0        0.0          0.0       0.0               0.0         0.0  \n",
       "1          0.0        0.0          0.0       0.0               0.0         0.0  \n",
       "2          0.0        0.0          0.0       0.0               0.0         0.0  \n",
       "3          0.0        0.0          0.0       0.0               0.0         0.0  \n",
       "4          0.0        0.0          0.0       0.0               0.0         0.0  \n",
       "\n",
       "[5 rows x 24 columns]"
      ]
     },
     "execution_count": 13,
     "metadata": {},
     "output_type": "execute_result"
    }
   ],
   "source": [
    "import pandas as pd\n",
    "from sklearn.preprocessing import KBinsDiscretizer\n",
    "\n",
    "\n",
    "# Create an instance of KBinsDiscretizer\n",
    "kbin_discretizer = KBinsDiscretizer(n_bins=5, encode='ordinal', strategy='uniform')\n",
    "\n",
    "# Apply discretization on the features\n",
    "features_discretized = kbin_discretizer.fit_transform(X)\n",
    "\n",
    "# Convert the discretized features back to a DataFrame\n",
    "columns = X.columns\n",
    "features_discretized_df = pd.DataFrame(features_discretized, columns=columns)\n",
    "features_discretized_df.head()"
   ]
  },
  {
   "attachments": {},
   "cell_type": "markdown",
   "metadata": {},
   "source": [
    "# Split our Data into training and testing"
   ]
  },
  {
   "cell_type": "code",
   "execution_count": 14,
   "metadata": {},
   "outputs": [
    {
     "data": {
      "text/plain": [
       "((20625, 24), (5157, 24), 20625, 5157)"
      ]
     },
     "execution_count": 14,
     "metadata": {},
     "output_type": "execute_result"
    }
   ],
   "source": [
    "from sklearn.model_selection import train_test_split\n",
    "\n",
    "x_train,x_test,y_train,y_test = train_test_split(features_discretized_df,y,test_size=0.2 , random_state=4)\n",
    "x_train.shape,x_test.shape,len(y_train),len(y_test)"
   ]
  },
  {
   "attachments": {},
   "cell_type": "markdown",
   "metadata": {},
   "source": [
    "# Modèles Implémentés\n",
    "\n",
    "- **Régression logistique**\n",
    "\n",
    "- **k-nearest neighbors**\n",
    "\n",
    "- **Arbre de décision**\n",
    "\n",
    "\n",
    "- **Adaboost (adaptive boosting)**\n",
    "\n",
    "- **Random Forest**\n",
    "\n",
    "- **Neural Network**\n"
   ]
  },
  {
   "cell_type": "code",
   "execution_count": 10,
   "metadata": {},
   "outputs": [],
   "source": [
    "from sklearn.metrics import confusion_matrix\n",
    "from sklearn.model_selection import GridSearchCV\n",
    "from sklearn.metrics import accuracy_score"
   ]
  },
  {
   "attachments": {},
   "cell_type": "markdown",
   "metadata": {},
   "source": [
    "## Decision Tree"
   ]
  },
  {
   "cell_type": "code",
   "execution_count": 15,
   "metadata": {},
   "outputs": [
    {
     "name": "stdout",
     "output_type": "stream",
     "text": [
      "Précision sur les données de test: 0.7585805700988947\n"
     ]
    }
   ],
   "source": [
    "from sklearn.tree import DecisionTreeClassifier\n",
    "\n",
    "\n",
    "# Définir le modèle\n",
    "DT = DecisionTreeClassifier()\n",
    "DT.fit(x_train, y_train)\n",
    "y_pred_dt = DT.predict(x_test)\n",
    "\n",
    "# Calculer l'accuracy sur les données de test\n",
    "accuracy_dt = accuracy_score(y_test, y_pred_dt)\n",
    "print(\"Précision sur les données de test avec discrétisation :\", accuracy_dt)"
   ]
  },
  {
   "attachments": {},
   "cell_type": "markdown",
   "metadata": {},
   "source": [
    "## {'No_Displ': 1, 'Displ': 0}"
   ]
  },
  {
   "cell_type": "code",
   "execution_count": 16,
   "metadata": {},
   "outputs": [
    {
     "data": {
      "image/png": "[encoded data removed]",
      "text/plain": [
       "<Figure size 800x600 with 1 Axes>"
      ]
     },
     "metadata": {},
     "output_type": "display_data"
    }
   ],
   "source": [
    "# Matrice de confusion pour DecisionTreeClassifier\n",
    "conf_matrix_dt = confusion_matrix(y_test, y_pred_dt)\n",
    "\n",
    "# visualisation du Matrice de confusion pour le modèle DecisionTreeClassifier\n",
    "plt.figure(figsize=(8, 6))\n",
    "sns.heatmap(conf_matrix_dt, annot=True, fmt='d', cmap='Blues', cbar=False)\n",
    "plt.title('Matrice de confusion - DecisionTreeClassifier avec discrétisation')\n",
    "plt.xlabel('Prédictions')\n",
    "plt.ylabel('Vraies étiquettes')\n",
    "plt.show()"
   ]
  },
  {
   "attachments": {},
   "cell_type": "markdown",
   "metadata": {},
   "source": [
    "## Adaboost (adaptive boosting)"
   ]
  },
  {
   "cell_type": "code",
   "execution_count": 17,
   "metadata": {},
   "outputs": [
    {
     "name": "stdout",
     "output_type": "stream",
     "text": [
      "Accuracy on test data for AdaBoost: 0.7878611595889082\n"
     ]
    }
   ],
   "source": [
    "from sklearn.ensemble import AdaBoostClassifier\n",
    "\n",
    "\n",
    "# Create an instance of AdaBoostClassifier\n",
    "ada_boost = AdaBoostClassifier()\n",
    "\n",
    "# Fit the model to the training data\n",
    "ada_boost.fit(x_train, y_train)\n",
    "\n",
    "# Predict on the test data\n",
    "y_pred_ada = ada_boost.predict(x_test)\n",
    "\n",
    "# Calculate accuracy on the test data\n",
    "accuracy_ada = accuracy_score(y_test, y_pred_ada)\n",
    "print(\"Accuracy on test data for AdaBoost:\", accuracy_ada)"
   ]
  },
  {
   "cell_type": "code",
   "execution_count": 18,
   "metadata": {},
   "outputs": [
    {
     "data": {
      "image/png": "[encoded data removed]",
      "text/plain": [
       "<Figure size 800x600 with 1 Axes>"
      ]
     },
     "metadata": {},
     "output_type": "display_data"
    }
   ],
   "source": [
    "# Display the confusion matrix\n",
    "conf_matrix_ada = confusion_matrix(y_test, y_pred_ada)\n",
    "\n",
    "# visualisation du Matrice de confusion pour le modèle AdaBoost\n",
    "plt.figure(figsize=(8, 6))\n",
    "sns.heatmap(conf_matrix_ada, annot=True, fmt='d', cmap='Blues', cbar=False)\n",
    "plt.title('Matrice de confusion - AdaBoostClassifier avec discrétisation')\n",
    "plt.xlabel('Prédictions')\n",
    "plt.ylabel('Vraies étiquettes')\n",
    "plt.show()"
   ]
  },
  {
   "attachments": {},
   "cell_type": "markdown",
   "metadata": {},
   "source": [
    "## KNeighborsClassifier"
   ]
  },
  {
   "cell_type": "code",
   "execution_count": 19,
   "metadata": {},
   "outputs": [
    {
     "name": "stdout",
     "output_type": "stream",
     "text": [
      "Accuracy: 0.7343416715144464\n"
     ]
    }
   ],
   "source": [
    "from sklearn.neighbors import KNeighborsClassifier\n",
    "\n",
    "\n",
    "\n",
    "# Créer un modèle KNN\n",
    "knn_model = KNeighborsClassifier()\n",
    "\n",
    "# Entraîner le modèle sur l'ensemble d'entraînement\n",
    "knn_model.fit(x_train, y_train)\n",
    "\n",
    "# Prédictions sur l'ensemble de test\n",
    "y_pred_knn = knn_model.predict(x_test)\n",
    "\n",
    "# Évaluer les performances du modèle\n",
    "accuracy_knn = accuracy_score(y_test, y_pred_knn)\n",
    "\n",
    "# Afficher les résultats\n",
    "print(f'Accuracy: {accuracy_knn}')\n"
   ]
  },
  {
   "cell_type": "code",
   "execution_count": 20,
   "metadata": {},
   "outputs": [
    {
     "data": {
      "image/png": "[encoded data removed]",
      "text/plain": [
       "<Figure size 800x600 with 1 Axes>"
      ]
     },
     "metadata": {},
     "output_type": "display_data"
    }
   ],
   "source": [
    "conf_matrix_knn = confusion_matrix(y_test, y_pred_knn)\n",
    "\n",
    "# visualisation du Matrice de confusion pour le modèle KNN\n",
    "plt.figure(figsize=(8, 6))\n",
    "sns.heatmap(conf_matrix_knn, annot=True, fmt='d', cmap='Blues', cbar=False)\n",
    "plt.title('Matrice de confusion - KNeighborsClassifier avec discrétisation')\n",
    "plt.xlabel('Prédictions')\n",
    "plt.ylabel('Vraies étiquettes')\n",
    "plt.show()"
   ]
  },
  {
   "attachments": {},
   "cell_type": "markdown",
   "metadata": {},
   "source": [
    "## Random Forest"
   ]
  },
  {
   "cell_type": "code",
   "execution_count": 21,
   "metadata": {},
   "outputs": [
    {
     "name": "stdout",
     "output_type": "stream",
     "text": [
      "Précision sur les données de test pour RandomForest avec discrétisation : 0.8394415357766143\n"
     ]
    }
   ],
   "source": [
    "from sklearn.ensemble import RandomForestClassifier\n",
    "\n",
    "# Définir le modèle\n",
    "RF = RandomForestClassifier()\n",
    "# Ajuster le modèle aux données d'entraînement\n",
    "RF.fit(x_train, y_train)\n",
    "\n",
    "# Prédire sur les données de test avec le meilleur modèle trouvé\n",
    "y_pred_rf = RF.predict(x_test)\n",
    "\n",
    "# Calculer l'accuracy sur les données de test\n",
    "accuracy_rf = accuracy_score(y_test, y_pred_rf)\n",
    "print(\"Précision sur les données de test pour RandomForest avec discrétisation :\", accuracy_rf)\n"
   ]
  },
  {
   "cell_type": "code",
   "execution_count": 22,
   "metadata": {},
   "outputs": [
    {
     "data": {
      "image/png": "[encoded data removed]",
      "text/plain": [
       "<Figure size 800x600 with 1 Axes>"
      ]
     },
     "metadata": {},
     "output_type": "display_data"
    }
   ],
   "source": [
    "conf_matrix_rf = confusion_matrix(y_test, y_pred_rf)\n",
    "\n",
    "# visualisation du Matrice de confusion pour le modèle RandomForest\n",
    "plt.figure(figsize=(8, 6))\n",
    "sns.heatmap(conf_matrix_rf, annot=True, fmt='d', cmap='Blues', cbar=False)\n",
    "plt.title('Matrice de confusion - RandomForest Classifier avec discrétisation')\n",
    "plt.xlabel('Prédictions')\n",
    "plt.ylabel('Vraies étiquettes')\n",
    "plt.show()"
   ]
  },
  {
   "attachments": {},
   "cell_type": "markdown",
   "metadata": {},
   "source": [
    "## Régression logistique"
   ]
  },
  {
   "cell_type": "code",
   "execution_count": 23,
   "metadata": {},
   "outputs": [
    {
     "name": "stdout",
     "output_type": "stream",
     "text": [
      "Accuracy on test data for Logistic Regression avec discrétisation : 0.7578049253441924\n"
     ]
    },
    {
     "name": "stderr",
     "output_type": "stream",
     "text": [
      "c:\\Users\\DELL\\AppData\\Local\\Programs\\Python\\Python310\\lib\\site-packages\\sklearn\\linear_model\\_logistic.py:458: ConvergenceWarning: lbfgs failed to converge (status=1):\n",
      "STOP: TOTAL NO. of ITERATIONS REACHED LIMIT.\n",
      "\n",
      "Increase the number of iterations (max_iter) or scale the data as shown in:\n",
      "    https://scikit-learn.org/stable/modules/preprocessing.html\n",
      "Please also refer to the documentation for alternative solver options:\n",
      "    https://scikit-learn.org/stable/modules/linear_model.html#logistic-regression\n",
      "  n_iter_i = _check_optimize_result(\n"
     ]
    }
   ],
   "source": [
    "from sklearn.linear_model import LogisticRegression\n",
    "\n",
    "\n",
    "# Create an instance of LogisticRegression\n",
    "logreg_model = LogisticRegression()\n",
    "\n",
    "# Fit the model to the training data\n",
    "logreg_model.fit(x_train, y_train)\n",
    "\n",
    "# Predict on the test data\n",
    "y_pred_logreg = logreg_model.predict(x_test)\n",
    "\n",
    "# Calculate accuracy on the test data\n",
    "accuracy_logreg = accuracy_score(y_test, y_pred_logreg)\n",
    "print(\"Accuracy on test data for Logistic Regression avec discrétisation :\", accuracy_logreg)"
   ]
  },
  {
   "cell_type": "code",
   "execution_count": 24,
   "metadata": {},
   "outputs": [
    {
     "data": {
      "image/png": "[encoded data removed]",
      "text/plain": [
       "<Figure size 800x600 with 1 Axes>"
      ]
     },
     "metadata": {},
     "output_type": "display_data"
    }
   ],
   "source": [
    "conf_matrix_logreg = confusion_matrix(y_test, y_pred_logreg)\n",
    "\n",
    "# visualisation du Matrice de confusion pour le modèle Régression logistique\n",
    "plt.figure(figsize=(8, 6))\n",
    "sns.heatmap(conf_matrix_logreg, annot=True, fmt='d', cmap='Blues', cbar=False)\n",
    "plt.title('Matrice de confusion - Logistic Regression avec discrétisation')\n",
    "plt.xlabel('Prédictions')\n",
    "plt.ylabel('Vraies étiquettes')\n",
    "plt.show()"
   ]
  },
  {
   "cell_type": "code",
   "execution_count": null,
   "metadata": {},
   "outputs": [],
   "source": []
  },
  {
   "attachments": {},
   "cell_type": "markdown",
   "metadata": {},
   "source": [
    "## Neural network"
   ]
  },
  {
   "cell_type": "code",
   "execution_count": 25,
   "metadata": {},
   "outputs": [
    {
     "name": "stdout",
     "output_type": "stream",
     "text": [
      "Epoch 1/10\n",
      "581/581 [==============================] - 3s 3ms/step - loss: 0.5201 - accuracy: 0.7474 - val_loss: 0.4845 - val_accuracy: 0.7819\n",
      "Epoch 2/10\n",
      "581/581 [==============================] - 2s 3ms/step - loss: 0.4879 - accuracy: 0.7661 - val_loss: 0.4828 - val_accuracy: 0.7853\n",
      "Epoch 3/10\n",
      "581/581 [==============================] - 1s 2ms/step - loss: 0.4840 - accuracy: 0.7701 - val_loss: 0.4814 - val_accuracy: 0.7746\n",
      "Epoch 4/10\n",
      "581/581 [==============================] - 2s 3ms/step - loss: 0.4818 - accuracy: 0.7715 - val_loss: 0.4762 - val_accuracy: 0.7824\n",
      "Epoch 5/10\n",
      "581/581 [==============================] - 1s 3ms/step - loss: 0.4808 - accuracy: 0.7718 - val_loss: 0.4764 - val_accuracy: 0.7775\n",
      "Epoch 6/10\n",
      "581/581 [==============================] - 1s 3ms/step - loss: 0.4781 - accuracy: 0.7746 - val_loss: 0.4775 - val_accuracy: 0.7848\n",
      "Epoch 7/10\n",
      "581/581 [==============================] - 2s 3ms/step - loss: 0.4774 - accuracy: 0.7741 - val_loss: 0.4781 - val_accuracy: 0.7804\n",
      "Epoch 8/10\n",
      "581/581 [==============================] - 2s 3ms/step - loss: 0.4760 - accuracy: 0.7742 - val_loss: 0.4755 - val_accuracy: 0.7833\n",
      "Epoch 9/10\n",
      "581/581 [==============================] - 2s 3ms/step - loss: 0.4752 - accuracy: 0.7768 - val_loss: 0.4756 - val_accuracy: 0.7770\n",
      "Epoch 10/10\n",
      "581/581 [==============================] - 2s 3ms/step - loss: 0.4742 - accuracy: 0.7758 - val_loss: 0.4705 - val_accuracy: 0.7824\n",
      "162/162 [==============================] - 0s 2ms/step\n",
      "Accuracy: 0.7760325770796975\n"
     ]
    }
   ],
   "source": [
    "import tensorflow as tf\n",
    "from sklearn.preprocessing import StandardScaler\n",
    "\n",
    "\n",
    "# Normaliser les données (très important pour les réseaux de neurones)\n",
    "scaler = StandardScaler()\n",
    "X_train_norm = scaler.fit_transform(x_train)\n",
    "X_test_norm = scaler.transform(x_test)\n",
    "\n",
    "# Créer un modèle de réseau de neurones simple avec Keras\n",
    "model = tf.keras.Sequential([\n",
    "    tf.keras.layers.Dense(64, activation='relu', input_dim=X_train_norm.shape[1]),\n",
    "    tf.keras.layers.Dense(1, activation='sigmoid')\n",
    "])\n",
    "\n",
    "# Compiler le modèle\n",
    "model.compile(optimizer='adam', loss='binary_crossentropy', metrics=['accuracy'])\n",
    "\n",
    "# Entraîner le modèle sur l'ensemble d'entraînement\n",
    "model.fit(X_train_norm, y_train, epochs=10, batch_size=32, validation_split=0.1)\n",
    "\n",
    "# Évaluer les performances du modèle sur l'ensemble de test\n",
    "predictions = (model.predict(X_test_norm) > 0.5).astype('int32')  # Conversion des probabilités en classes binaires\n",
    "accuracy = accuracy_score(y_test, predictions)\n",
    "\n",
    "# Afficher les résultats\n",
    "print(f'Accuracy: {accuracy}')\n"
   ]
  },
  {
   "cell_type": "code",
   "execution_count": 26,
   "metadata": {},
   "outputs": [
    {
     "data": {
      "image/png": "[encoded data removed]",
      "text/plain": [
       "<Figure size 800x600 with 1 Axes>"
      ]
     },
     "metadata": {},
     "output_type": "display_data"
    }
   ],
   "source": [
    "conf_matrix_NN = confusion_matrix(y_test, predictions)\n",
    "\n",
    "# visualisation du Matrice de confusion pour les Réseaux de neurones\n",
    "plt.figure(figsize=(8, 6))\n",
    "sns.heatmap(conf_matrix_NN, annot=True, fmt='d', cmap='Blues', cbar=False)\n",
    "plt.title('Matrice de confusion - Neural network avec discrétisation ')\n",
    "plt.xlabel('Prédictions')\n",
    "plt.ylabel('Vraies étiquettes')\n",
    "plt.show()"
   ]
  },
  {
   "attachments": {},
   "cell_type": "markdown",
   "metadata": {},
   "source": [
    "# Grid search for random Forest avec discrétisation"
   ]
  },
  {
   "cell_type": "code",
   "execution_count": 27,
   "metadata": {},
   "outputs": [
    {
     "name": "stdout",
     "output_type": "stream",
     "text": [
      "Meilleurs paramètres pour RandomForest: {'max_depth': 30, 'n_estimators': 50}\n",
      "Précision sur les données de test pour RandomForest avec discrétisation : 0.8375024238898584\n"
     ]
    }
   ],
   "source": [
    "# Définir le modèle\n",
    "RF = RandomForestClassifier()\n",
    "\n",
    "# Définir la grille des paramètres à tester\n",
    "param_grid_rf = {\n",
    "    'n_estimators': [50, 100, 200],\n",
    "    'max_depth': [None, 10, 20, 30],\n",
    "}\n",
    "\n",
    "# Créer l'objet GridSearchCV\n",
    "grid_search_rf = GridSearchCV(estimator=RF, param_grid=param_grid_rf, cv=5, scoring='accuracy')\n",
    "\n",
    "# Ajuster le modèle aux données d'entraînement\n",
    "grid_search_rf.fit(x_train, y_train)\n",
    "\n",
    "# Afficher les meilleurs paramètres\n",
    "print(\"Meilleurs paramètres pour RandomForest:\", grid_search_rf.best_params_)\n",
    "\n",
    "# Prédire sur les données de test avec le meilleur modèle trouvé\n",
    "y_pred_rf = grid_search_rf.predict(x_test)\n",
    "\n",
    "# Calculer l'accuracy sur les données de test\n",
    "accuracy_rf = accuracy_score(y_test, y_pred_rf)\n",
    "print(\"Précision sur les données de test pour RandomForest avec discrétisation :\", accuracy_rf)\n"
   ]
  },
  {
   "cell_type": "code",
   "execution_count": 28,
   "metadata": {},
   "outputs": [
    {
     "data": {
      "image/png": "[encoded data removed]",
      "text/plain": [
       "<Figure size 800x600 with 1 Axes>"
      ]
     },
     "metadata": {},
     "output_type": "display_data"
    }
   ],
   "source": [
    "conf_matrix_rf = confusion_matrix(y_test, y_pred_rf)\n",
    "# Matrice de confusion \n",
    "plt.figure(figsize=(8, 6))\n",
    "sns.heatmap(conf_matrix_rf, annot=True, fmt='d', cmap='Blues', cbar=False)\n",
    "plt.title('Matrice de confusion - RandomForest Classifier en utilisant grid search avec discrétisation')\n",
    "plt.xlabel('Prédictions')\n",
    "plt.ylabel('Vraies étiquettes')\n",
    "plt.show()"
   ]
  }
 ],
 "metadata": {
  "kernelspec": {
   "display_name": "Python 3",
   "language": "python",
   "name": "python3"
  },
  "language_info": {
   "codemirror_mode": {
    "name": "ipython",
    "version": 3
   },
   "file_extension": ".py",
   "mimetype": "text/x-python",
   "name": "python",
   "nbconvert_exporter": "python",
   "pygments_lexer": "ipython3",
   "version": "3.10.7"
  },
  "orig_nbformat": 4
 },
 "nbformat": 4,
 "nbformat_minor": 2
}
